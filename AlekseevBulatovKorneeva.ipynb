{
 "cells": [
  {
   "cell_type": "markdown",
   "metadata": {
    "collapsed": true
   },
   "source": [
    "## Если библиотеки уже установлены, то пропустите следующую клетку"
   ]
  },
  {
   "cell_type": "code",
   "execution_count": null,
   "metadata": {
    "collapsed": false
   },
   "outputs": [],
   "source": [
    "import sys\n",
    "!{sys.executable} -m pip install pandas\n",
    "!{sys.executable} -m pip install lxml\n",
    "!{sys.executable} -m pip install pymorphy2"
   ]
  },
  {
   "cell_type": "code",
   "execution_count": 80,
   "metadata": {
    "collapsed": false
   },
   "outputs": [],
   "source": [
    "from urllib import request\n",
    "import lxml.html\n",
    "import pandas as pd\n",
    "import datetime\n",
    "import pymorphy2\n"
   ]
  },
  {
   "cell_type": "code",
   "execution_count": 81,
   "metadata": {
    "collapsed": true
   },
   "outputs": [],
   "source": [
    "url = \"https://www.gismeteo.ru/weather-vladivostok-4877/10-days/\"\n",
    "output = request.urlopen(url).read().decode(\"utf-8\") \n",
    "html = lxml.html.fromstring(output)"
   ]
  },
  {
   "cell_type": "code",
   "execution_count": 82,
   "metadata": {
    "collapsed": true
   },
   "outputs": [],
   "source": [
    "# заменяет тире на минус в числах и запятую на точку в датах для удобного парсинга\n",
    "def r(text):\n",
    "    return text.replace('−', '-').replace(',','.')"
   ]
  },
  {
   "cell_type": "code",
   "execution_count": 83,
   "metadata": {
    "collapsed": true
   },
   "outputs": [],
   "source": [
    "temperatures = html.find_class('value')\n",
    "precipitations = html.find_class('w_precipitation__value')\n",
    "winds = html.find_class('w_wind')\n",
    "dates = html.find_class('w_date')\n",
    "data = {}\n",
    "indexes = [\"минимальная температура\",\"максимальная температура\",\"скорость ветра\",\"уровень осадков\"]\n",
    "m = datetime.date.today()\n",
    "morph = pymorphy2.MorphAnalyzer()"
   ]
  },
  {
   "cell_type": "code",
   "execution_count": 84,
   "metadata": {
    "collapsed": false
   },
   "outputs": [],
   "source": [
    "for i in range(10):\n",
    "    col = dates[i][0][1].text.strip().split(' ')[0]+\".\"+m.strftime('%m')+\" \"+dates[i][0][0].text\n",
    "    temp_min = int(r(temperatures[i][0].text))\n",
    "    temp_max = int(r(temperatures[i][1].text))\n",
    "    wind = int(str(lxml.html.tostring(winds[i][0][0])).split('>')[-1].split('\\\\n')[1].strip())\n",
    "    precipitation = float(r(precipitations[i].text.strip()))\n",
    "    data[col] = [temp_min,temp_max,wind,precipitation]"
   ]
  },
  {
   "cell_type": "code",
   "execution_count": 85,
   "metadata": {
    "collapsed": true
   },
   "outputs": [],
   "source": [
    "df = pd.DataFrame(data,index=indexes)"
   ]
  },
  {
   "cell_type": "code",
   "execution_count": 86,
   "metadata": {
    "collapsed": false
   },
   "outputs": [
    {
     "data": {
      "text/html": [
       "<div>\n",
       "<style scoped>\n",
       "    .dataframe tbody tr th:only-of-type {\n",
       "        vertical-align: middle;\n",
       "    }\n",
       "\n",
       "    .dataframe tbody tr th {\n",
       "        vertical-align: top;\n",
       "    }\n",
       "\n",
       "    .dataframe thead th {\n",
       "        text-align: right;\n",
       "    }\n",
       "</style>\n",
       "<table border=\"1\" class=\"dataframe\">\n",
       "  <thead>\n",
       "    <tr style=\"text-align: right;\">\n",
       "      <th></th>\n",
       "      <th>10.02 Сб</th>\n",
       "      <th>11.02 Вс</th>\n",
       "      <th>12.02 Пн</th>\n",
       "      <th>13.02 Вт</th>\n",
       "      <th>14.02 Ср</th>\n",
       "      <th>15.02 Чт</th>\n",
       "      <th>16.02 Пт</th>\n",
       "      <th>17.02 Сб</th>\n",
       "      <th>18.02 Вс</th>\n",
       "      <th>19.02 Пн</th>\n",
       "    </tr>\n",
       "  </thead>\n",
       "  <tbody>\n",
       "    <tr>\n",
       "      <th>минимальная температура</th>\n",
       "      <td>-4.0</td>\n",
       "      <td>-7.0</td>\n",
       "      <td>-7.0</td>\n",
       "      <td>-4.0</td>\n",
       "      <td>-3.0</td>\n",
       "      <td>-4.0</td>\n",
       "      <td>-3.0</td>\n",
       "      <td>-5.0</td>\n",
       "      <td>-7.0</td>\n",
       "      <td>-7.0</td>\n",
       "    </tr>\n",
       "    <tr>\n",
       "      <th>максимальная температура</th>\n",
       "      <td>-8.0</td>\n",
       "      <td>-12.0</td>\n",
       "      <td>-13.0</td>\n",
       "      <td>-13.0</td>\n",
       "      <td>-11.0</td>\n",
       "      <td>-10.0</td>\n",
       "      <td>-8.0</td>\n",
       "      <td>-9.0</td>\n",
       "      <td>-11.0</td>\n",
       "      <td>-13.0</td>\n",
       "    </tr>\n",
       "    <tr>\n",
       "      <th>скорость ветра</th>\n",
       "      <td>15.0</td>\n",
       "      <td>17.0</td>\n",
       "      <td>15.0</td>\n",
       "      <td>15.0</td>\n",
       "      <td>12.0</td>\n",
       "      <td>13.0</td>\n",
       "      <td>12.0</td>\n",
       "      <td>12.0</td>\n",
       "      <td>16.0</td>\n",
       "      <td>17.0</td>\n",
       "    </tr>\n",
       "    <tr>\n",
       "      <th>уровень осадков</th>\n",
       "      <td>0.0</td>\n",
       "      <td>0.1</td>\n",
       "      <td>0.0</td>\n",
       "      <td>0.0</td>\n",
       "      <td>1.3</td>\n",
       "      <td>0.0</td>\n",
       "      <td>0.0</td>\n",
       "      <td>1.0</td>\n",
       "      <td>1.2</td>\n",
       "      <td>0.0</td>\n",
       "    </tr>\n",
       "  </tbody>\n",
       "</table>\n",
       "</div>"
      ],
      "text/plain": [
       "                          10.02 Сб  11.02 Вс  12.02 Пн  13.02 Вт  14.02 Ср  \\\n",
       "минимальная температура       -4.0      -7.0      -7.0      -4.0      -3.0   \n",
       "максимальная температура      -8.0     -12.0     -13.0     -13.0     -11.0   \n",
       "скорость ветра                15.0      17.0      15.0      15.0      12.0   \n",
       "уровень осадков                0.0       0.1       0.0       0.0       1.3   \n",
       "\n",
       "                          15.02 Чт  16.02 Пт  17.02 Сб  18.02 Вс  19.02 Пн  \n",
       "минимальная температура       -4.0      -3.0      -5.0      -7.0      -7.0  \n",
       "максимальная температура     -10.0      -8.0      -9.0     -11.0     -13.0  \n",
       "скорость ветра                13.0      12.0      12.0      16.0      17.0  \n",
       "уровень осадков                0.0       0.0       1.0       1.2       0.0  "
      ]
     },
     "execution_count": 86,
     "metadata": {},
     "output_type": "execute_result"
    }
   ],
   "source": [
    "df"
   ]
  },
  {
   "cell_type": "markdown",
   "metadata": {
    "collapsed": true
   },
   "source": [
    "В день1 похолодает / потеплеет на X градус (-а, -ов) по сравнению с день2\n",
    "\n",
    "В четверг в НазваниеГорода потеплеет на 7 градусов по сравнению со средой\n",
    "\n",
    "Скорость ветра изменится на X единиц в день1 по сравнению с день2.\n",
    "\n",
    "Скорость ветра изменится на 3 единицы в понедельник по сравнению с пятницей\n",
    "\n",
    "Уровень осадков повысится / понизится на X единиц за Y дней.\n",
    "\n",
    "Уровень осадков понится на 3.85 единиц за 7 дней\n",
    "\n"
   ]
  },
  {
   "cell_type": "code",
   "execution_count": 87,
   "metadata": {
    "collapsed": true
   },
   "outputs": [],
   "source": [
    "days = {'Пн' : 'понедельник', \n",
    "       'Вт' : 'вторник',\n",
    "        'Ср' : 'среда', \n",
    "        'Чт' : 'четверг', \n",
    "        'Пт' : 'пятница', \n",
    "        'Сб' : 'суббота', \n",
    "        'Вс' : 'воскресенье'\n",
    "       }"
   ]
  },
  {
   "cell_type": "code",
   "execution_count": 88,
   "metadata": {
    "collapsed": false
   },
   "outputs": [],
   "source": [
    "#В день1 похолодает / потеплеет на X градус (-а, -ов) по сравнению с день2\n",
    "def temperature_template(day1_date, day2_date):\n",
    "    #TODO day1 должно быть больше чем day2\n",
    "    morph = pymorphy2.MorphAnalyzer()\n",
    "    day1_name = days[day1_date[-2:]]\n",
    "    day1_name = morph.parse(day1_name)[0]\n",
    "    day1_name = day1_name.inflect({'accs'}).word\n",
    "    \n",
    "    day2_name = days[day2_date[-2:]]\n",
    "    day2_name = morph.parse(day2_name)[0]\n",
    "    day2_name = day2_name.inflect({'ablt'}).word\n",
    "    \n",
    "    temp1 = (df[day1_date][0] + df[day1_date][1]) // 2\n",
    "    temp2 = (df[day2_date][0] + df[day2_date][1]) // 2\n",
    "    diff = abs(temp1 - temp2)\n",
    "    \n",
    "    degree = 'градус'\n",
    "    degree = morph.parse(degree)[0]\n",
    "    degree = degree.make_agree_with_number(diff).word\n",
    "    \n",
    "    if (temp1 > temp2):\n",
    "        verb = 'потеплеет'\n",
    "    else:\n",
    "        verb = 'похолодает'\n",
    "        \n",
    "    city = 'Владивосток'\n",
    "    city = morph.parse(city)[0]\n",
    "    city = city.inflect({'loct'}).word\n",
    "    \n",
    "    s = ' '.join(['В', day1_name, 'во', city.title(), verb, 'на', str(int(diff)), degree, 'по сравнению с', day2_name])\n",
    "        \n",
    "    return s\n",
    "    "
   ]
  },
  {
   "cell_type": "code",
   "execution_count": 89,
   "metadata": {
    "collapsed": false
   },
   "outputs": [
    {
     "name": "stdout",
     "output_type": "stream",
     "text": [
      "В воскресенье во Владивостоке похолодает на 4 градуса по сравнению с субботой\n"
     ]
    }
   ],
   "source": [
    "print(temperature_template('11.02 Вс', '10.02 Сб'))"
   ]
  },
  {
   "cell_type": "code",
   "execution_count": 90,
   "metadata": {
    "collapsed": true
   },
   "outputs": [],
   "source": [
    "# Скорость ветра изменится на X единиц в день1 по сравнению с день2\n",
    "def wind_template(day1_date, day2_date):\n",
    "    morph = pymorphy2.MorphAnalyzer()\n",
    "    day1_name = days[day1_date[-2:]]\n",
    "    day1_name = morph.parse(day1_name)[0]\n",
    "    day1_name = day1_name.inflect({'accs'}).word\n",
    "    \n",
    "    day2_name = days[day2_date[-2:]]\n",
    "    day2_name = morph.parse(day2_name)[0]\n",
    "    day2_name = day2_name.inflect({'ablt'}).word\n",
    "    \n",
    "    wind1 = df[day1_date][2]\n",
    "    wind2 = df[day2_date][2]\n",
    "    diff = abs(wind1 - wind2)\n",
    "    \n",
    "    unit = 'единица'\n",
    "    unit = morph.parse(unit)[0]\n",
    "    unit = unit.make_agree_with_number(diff).word\n",
    "    \n",
    "    s = ' '.join(['Скорость ветра изменится на', str(int(diff)), unit, 'в', day1_name, 'по сравнению с', day2_name])\n",
    "        \n",
    "    return s\n",
    "    "
   ]
  },
  {
   "cell_type": "code",
   "execution_count": 91,
   "metadata": {
    "collapsed": false
   },
   "outputs": [
    {
     "name": "stdout",
     "output_type": "stream",
     "text": [
      "Скорость ветра изменится на 2 единицы в воскресенье по сравнению с субботой\n"
     ]
    }
   ],
   "source": [
    "print(wind_template('11.02 Вс', '10.02 Сб'))"
   ]
  },
  {
   "cell_type": "code",
   "execution_count": 94,
   "metadata": {
    "collapsed": true
   },
   "outputs": [],
   "source": [
    "# Уровень осадков повысится / понизится на X единиц за Y дней.\n",
    "from datetime import datetime\n",
    "\n",
    "def precipitation_template(day1_date, day2_date):\n",
    "    #TODO day1 должно быть больше чем day2\n",
    "    morph = pymorphy2.MorphAnalyzer()\n",
    "\n",
    "    date_format = \"%d.%m\"\n",
    "    day1 = datetime.strptime(day1_date[:5], date_format)\n",
    "    day2 = datetime.strptime(day2_date[:5], date_format)\n",
    "    delta = int((day1 - day2).days)\n",
    "\n",
    "    prec1 = df[day1_date][3]\n",
    "    prec2 = df[day2_date][3]\n",
    "    diff = abs(prec1 - prec2)\n",
    "    \n",
    "    unit = 'единица'\n",
    "    unit = morph.parse(unit)[0]\n",
    "    unit = unit.make_agree_with_number(diff).word\n",
    "    \n",
    "    days_count = 'дни'\n",
    "    days_count = morph.parse(days_count)[0]\n",
    "    days_count = days_count.make_agree_with_number(delta).word\n",
    "    \n",
    "    if (prec1 > prec2):\n",
    "        verb = 'повысится'\n",
    "    else:\n",
    "        verb = 'понизится'\n",
    "    \n",
    "    s = ' '.join(['Уровень осадков', verb, 'на', str(diff), unit, 'за', str(delta), days_count])\n",
    "        \n",
    "    return s"
   ]
  },
  {
   "cell_type": "code",
   "execution_count": 98,
   "metadata": {
    "collapsed": false
   },
   "outputs": [
    {
     "name": "stdout",
     "output_type": "stream",
     "text": [
      "Уровень осадков повысится на 1.3 единиц за 4 дня\n"
     ]
    }
   ],
   "source": [
    "print(precipitation_template('14.02 Ср', '10.02 Сб'))"
   ]
  },
  {
   "cell_type": "code",
   "execution_count": 96,
   "metadata": {
    "collapsed": false
   },
   "outputs": [
    {
     "name": "stdout",
     "output_type": "stream",
     "text": [
      "Parse(word='владивостоке', tag=OpencorporaTag('NOUN,inan,masc,Geox sing,loct'), normal_form='владивосток', score=1.0, methods_stack=((<DictionaryAnalyzer>, 'владивостоке', 73, 5),))\n"
     ]
    }
   ],
   "source": [
    "butyavka = morph.parse('Владивостоке')[0]\n",
    "print(butyavka)"
   ]
  },
  {
   "cell_type": "code",
   "execution_count": 62,
   "metadata": {
    "collapsed": false
   },
   "outputs": [
    {
     "name": "stdout",
     "output_type": "stream",
     "text": [
      "2\n"
     ]
    }
   ],
   "source": [
    "from datetime import datetime\n",
    "date_format = \"%d.%m\"\n",
    "a = datetime.strptime('10.02', date_format)\n",
    "b = datetime.strptime('12.02', date_format)\n",
    "delta = b - a\n",
    "print(int(delta.days)) # that's it"
   ]
  },
  {
   "cell_type": "markdown",
   "metadata": {},
   "source": [
    "Генераторы текстов широко используются при разработке и поисковой оптимизации сайтов: для генерации названий, описаний, и содержимого целых сайтов с помощью доргенов (генераторов дорвеев).\n",
    "\n",
    "Существуют крупные англоязычные сайты, зарабатывающие на размещении рекламы, на которых весь контент пишут не журналисты, а боты — статьи автоматическим рерайтятся из других источников. Примеры таких сайтов: Demand Mediaruen и Associated Contentruen[3]. Русский язык, в отличие от английского, имеет сложную морфологию, поэтому появление подобных ботов-рерайтеров в рунете сильно осложнено.\n",
    "\n",
    "Виртуальные собеседники (чат-боты) — программы, предназначенные имитировать общение в чатах. Они массово применяются для рассылки спама в соцсетях (спам-боты), а также как автоответчики, способные реагировать на множества ключевых слов по разным сценариям.\n",
    "\n",
    "\n"
   ]
  },
  {
   "cell_type": "code",
   "execution_count": null,
   "metadata": {
    "collapsed": true
   },
   "outputs": [],
   "source": []
  }
 ],
 "metadata": {
  "anaconda-cloud": {},
  "kernelspec": {
   "display_name": "Python [default]",
   "language": "python",
   "name": "python3"
  },
  "language_info": {
   "codemirror_mode": {
    "name": "ipython",
    "version": 3
   },
   "file_extension": ".py",
   "mimetype": "text/x-python",
   "name": "python",
   "nbconvert_exporter": "python",
   "pygments_lexer": "ipython3",
   "version": "3.5.2"
  }
 },
 "nbformat": 4,
 "nbformat_minor": 2
}
