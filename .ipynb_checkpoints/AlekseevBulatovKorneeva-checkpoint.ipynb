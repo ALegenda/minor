{
 "cells": [
  {
   "cell_type": "markdown",
   "metadata": {
    "collapsed": true
   },
   "source": [
    "## Если библиотеки уже установлены, то пропустите следующую клетку"
   ]
  },
  {
   "cell_type": "code",
   "execution_count": null,
   "metadata": {
    "collapsed": true
   },
   "outputs": [],
   "source": [
    "import sys\n",
    "!{sys.executable} -m pip install pandas\n",
    "!{sys.executable} -m pip install lxml"
   ]
  },
  {
   "cell_type": "code",
   "execution_count": 1,
   "metadata": {
    "collapsed": true
   },
   "outputs": [],
   "source": [
    "from urllib import request\n",
    "import lxml.html\n",
    "import pandas as pd"
   ]
  },
  {
   "cell_type": "code",
   "execution_count": 2,
   "metadata": {
    "collapsed": true
   },
   "outputs": [],
   "source": [
    "url = \"https://www.gismeteo.ru/weather-vladivostok-4877/10-days/\"\n",
    "output = request.urlopen(url).read().decode(\"utf-8\") \n",
    "html = lxml.html.fromstring(output)"
   ]
  },
  {
   "cell_type": "code",
   "execution_count": 3,
   "metadata": {
    "collapsed": true
   },
   "outputs": [],
   "source": [
    "temperatures = html.find_class('value')\n",
    "precipitations = html.find_class('w_precipitation__value')\n",
    "winds = html.find_class('w_wind')\n",
    "dates = html.find_class('w_date')\n",
    "data = {}\n",
    "indexes = [\"минимальная температура\",\"максимальная температура\",\"скорость ветра\",\"уровень осадков\"]"
   ]
  },
  {
   "cell_type": "code",
   "execution_count": 4,
   "metadata": {},
   "outputs": [],
   "source": [
    "for i in range(10):\n",
    "    col = dates[i][0][1].text.strip().split(' ')[0]+\".02 \"+dates[i][0][0].text\n",
    "    temp_min = temperatures[i][0].text\n",
    "    temp_max = temperatures[i][1].text\n",
    "    wind = str(lxml.html.tostring(winds[i][0][0])).split('>')[-1].split('\\\\n')[1].strip()\n",
    "    precipitation = precipitations[i].text.strip()\n",
    "    data[col] = [temp_min,temp_max,wind,precipitation]"
   ]
  },
  {
   "cell_type": "code",
   "execution_count": 5,
   "metadata": {
    "collapsed": true
   },
   "outputs": [],
   "source": [
    "df = pd.DataFrame(data,index=indexes)"
   ]
  },
  {
   "cell_type": "code",
   "execution_count": 6,
   "metadata": {},
   "outputs": [
    {
     "data": {
      "text/html": [
       "<div>\n",
       "<style>\n",
       "    .dataframe thead tr:only-child th {\n",
       "        text-align: right;\n",
       "    }\n",
       "\n",
       "    .dataframe thead th {\n",
       "        text-align: left;\n",
       "    }\n",
       "\n",
       "    .dataframe tbody tr th {\n",
       "        vertical-align: top;\n",
       "    }\n",
       "</style>\n",
       "<table border=\"1\" class=\"dataframe\">\n",
       "  <thead>\n",
       "    <tr style=\"text-align: right;\">\n",
       "      <th></th>\n",
       "      <th>10.02 Сб</th>\n",
       "      <th>11.02 Вс</th>\n",
       "      <th>12.02 Пн</th>\n",
       "      <th>13.02 Вт</th>\n",
       "      <th>14.02 Ср</th>\n",
       "      <th>15.02 Чт</th>\n",
       "      <th>16.02 Пт</th>\n",
       "      <th>17.02 Сб</th>\n",
       "      <th>18.02 Вс</th>\n",
       "      <th>19.02 Пн</th>\n",
       "    </tr>\n",
       "  </thead>\n",
       "  <tbody>\n",
       "    <tr>\n",
       "      <th>минимальная температура</th>\n",
       "      <td>−5</td>\n",
       "      <td>−9</td>\n",
       "      <td>−9</td>\n",
       "      <td>−8</td>\n",
       "      <td>−5</td>\n",
       "      <td>−6</td>\n",
       "      <td>−3</td>\n",
       "      <td>−6</td>\n",
       "      <td>−6</td>\n",
       "      <td>−5</td>\n",
       "    </tr>\n",
       "    <tr>\n",
       "      <th>максимальная температура</th>\n",
       "      <td>−9</td>\n",
       "      <td>−13</td>\n",
       "      <td>−15</td>\n",
       "      <td>−15</td>\n",
       "      <td>−14</td>\n",
       "      <td>−11</td>\n",
       "      <td>−11</td>\n",
       "      <td>−11</td>\n",
       "      <td>−11</td>\n",
       "      <td>−13</td>\n",
       "    </tr>\n",
       "    <tr>\n",
       "      <th>скорость ветра</th>\n",
       "      <td>15</td>\n",
       "      <td>17</td>\n",
       "      <td>15</td>\n",
       "      <td>15</td>\n",
       "      <td>11</td>\n",
       "      <td>15</td>\n",
       "      <td>14</td>\n",
       "      <td>11</td>\n",
       "      <td>12</td>\n",
       "      <td>15</td>\n",
       "    </tr>\n",
       "    <tr>\n",
       "      <th>уровень осадков</th>\n",
       "      <td>0</td>\n",
       "      <td>0</td>\n",
       "      <td>0</td>\n",
       "      <td>0</td>\n",
       "      <td>0,8</td>\n",
       "      <td>0</td>\n",
       "      <td>0</td>\n",
       "      <td>0</td>\n",
       "      <td>0,2</td>\n",
       "      <td>0</td>\n",
       "    </tr>\n",
       "  </tbody>\n",
       "</table>\n",
       "</div>"
      ],
      "text/plain": [
       "                         10.02 Сб 11.02 Вс 12.02 Пн 13.02 Вт 14.02 Ср  \\\n",
       "минимальная температура        −5       −9       −9       −8       −5   \n",
       "максимальная температура       −9      −13      −15      −15      −14   \n",
       "скорость ветра                 15       17       15       15       11   \n",
       "уровень осадков                 0        0        0        0      0,8   \n",
       "\n",
       "                         15.02 Чт 16.02 Пт 17.02 Сб 18.02 Вс 19.02 Пн  \n",
       "минимальная температура        −6       −3       −6       −6       −5  \n",
       "максимальная температура      −11      −11      −11      −11      −13  \n",
       "скорость ветра                 15       14       11       12       15  \n",
       "уровень осадков                 0        0        0      0,2        0  "
      ]
     },
     "execution_count": 6,
     "metadata": {},
     "output_type": "execute_result"
    }
   ],
   "source": [
    "df"
   ]
  },
  {
   "cell_type": "code",
   "execution_count": null,
   "metadata": {
    "collapsed": true
   },
   "outputs": [],
   "source": []
  }
 ],
 "metadata": {
  "kernelspec": {
   "display_name": "Python 3",
   "language": "python",
   "name": "python3"
  },
  "language_info": {
   "codemirror_mode": {
    "name": "ipython",
    "version": 3
   },
   "file_extension": ".py",
   "mimetype": "text/x-python",
   "name": "python",
   "nbconvert_exporter": "python",
   "pygments_lexer": "ipython3",
   "version": "3.6.1"
  }
 },
 "nbformat": 4,
 "nbformat_minor": 2
}
